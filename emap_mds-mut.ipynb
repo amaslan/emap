{
 "cells": [
  {
   "cell_type": "markdown",
   "metadata": {},
   "source": [
    "# Multidimensional scaling of E-MAP data\n",
    " "
   ]
  },
  {
   "cell_type": "code",
   "execution_count": 1,
   "metadata": {
    "collapsed": true
   },
   "outputs": [],
   "source": [
    "%matplotlib inline\n",
    "import matplotlib.pyplot as plt\n",
    "import seaborn as sns\n",
    "import numpy as np\n",
    "import pandas as pd\n",
    "from collections import Counter\n",
    "\n",
    "plt.style.use('seaborn-dark')\n",
    "plt.rcParams['figure.figsize'] = (10, 6)"
   ]
  },
  {
   "cell_type": "code",
   "execution_count": 2,
   "metadata": {
    "collapsed": true
   },
   "outputs": [],
   "source": [
    "# read in r dataframe\n",
    "# data = pd.read_csv(\"/Users/annie/emap/20180109/final.csv\")\n",
    "data = pd.read_csv(\"/Users/annie/emap/20180109/corr_of_corr_no_na_no_mut_sep_no_na.csv\")"
   ]
  },
  {
   "cell_type": "markdown",
   "metadata": {},
   "source": [
    "Look at the dataframe we've read in."
   ]
  },
  {
   "cell_type": "code",
   "execution_count": 3,
   "metadata": {},
   "outputs": [
    {
     "data": {
      "text/html": [
       "<div>\n",
       "<style>\n",
       "    .dataframe thead tr:only-child th {\n",
       "        text-align: right;\n",
       "    }\n",
       "\n",
       "    .dataframe thead th {\n",
       "        text-align: left;\n",
       "    }\n",
       "\n",
       "    .dataframe tbody tr th {\n",
       "        vertical-align: top;\n",
       "    }\n",
       "</style>\n",
       "<table border=\"1\" class=\"dataframe\">\n",
       "  <thead>\n",
       "    <tr style=\"text-align: right;\">\n",
       "      <th></th>\n",
       "      <th>method</th>\n",
       "      <th>value</th>\n",
       "      <th>mutant</th>\n",
       "      <th>partner</th>\n",
       "      <th>protein</th>\n",
       "      <th>ORF</th>\n",
       "      <th>cluster_number</th>\n",
       "      <th>cluster</th>\n",
       "    </tr>\n",
       "  </thead>\n",
       "  <tbody>\n",
       "    <tr>\n",
       "      <th>0</th>\n",
       "      <td>corr_of_corr_no_na_no_mut</td>\n",
       "      <td>-0.441411</td>\n",
       "      <td>K129F</td>\n",
       "      <td>CIN1 - YOR349W</td>\n",
       "      <td>CIN1</td>\n",
       "      <td>YOR349W</td>\n",
       "      <td>10</td>\n",
       "      <td>Golgi and ER_GO_2</td>\n",
       "    </tr>\n",
       "    <tr>\n",
       "      <th>1</th>\n",
       "      <td>corr_of_corr_no_na_no_mut</td>\n",
       "      <td>-0.246723</td>\n",
       "      <td>K129I</td>\n",
       "      <td>CIN1 - YOR349W</td>\n",
       "      <td>CIN1</td>\n",
       "      <td>YOR349W</td>\n",
       "      <td>10</td>\n",
       "      <td>Golgi and ER_GO_2</td>\n",
       "    </tr>\n",
       "    <tr>\n",
       "      <th>2</th>\n",
       "      <td>corr_of_corr_no_na_no_mut</td>\n",
       "      <td>-0.374419</td>\n",
       "      <td>K129T</td>\n",
       "      <td>CIN1 - YOR349W</td>\n",
       "      <td>CIN1</td>\n",
       "      <td>YOR349W</td>\n",
       "      <td>10</td>\n",
       "      <td>Golgi and ER_GO_2</td>\n",
       "    </tr>\n",
       "    <tr>\n",
       "      <th>3</th>\n",
       "      <td>corr_of_corr_no_na_no_mut</td>\n",
       "      <td>-0.449169</td>\n",
       "      <td>K132H</td>\n",
       "      <td>CIN1 - YOR349W</td>\n",
       "      <td>CIN1</td>\n",
       "      <td>YOR349W</td>\n",
       "      <td>10</td>\n",
       "      <td>Golgi and ER_GO_2</td>\n",
       "    </tr>\n",
       "    <tr>\n",
       "      <th>4</th>\n",
       "      <td>corr_of_corr_no_na_no_mut</td>\n",
       "      <td>0.375386</td>\n",
       "      <td>K143H</td>\n",
       "      <td>CIN1 - YOR349W</td>\n",
       "      <td>CIN1</td>\n",
       "      <td>YOR349W</td>\n",
       "      <td>10</td>\n",
       "      <td>Golgi and ER_GO_2</td>\n",
       "    </tr>\n",
       "  </tbody>\n",
       "</table>\n",
       "</div>"
      ],
      "text/plain": [
       "                      method     value mutant         partner protein  \\\n",
       "0  corr_of_corr_no_na_no_mut -0.441411  K129F  CIN1 - YOR349W    CIN1   \n",
       "1  corr_of_corr_no_na_no_mut -0.246723  K129I  CIN1 - YOR349W    CIN1   \n",
       "2  corr_of_corr_no_na_no_mut -0.374419  K129T  CIN1 - YOR349W    CIN1   \n",
       "3  corr_of_corr_no_na_no_mut -0.449169  K132H  CIN1 - YOR349W    CIN1   \n",
       "4  corr_of_corr_no_na_no_mut  0.375386  K143H  CIN1 - YOR349W    CIN1   \n",
       "\n",
       "       ORF  cluster_number            cluster  \n",
       "0  YOR349W              10  Golgi and ER_GO_2  \n",
       "1  YOR349W              10  Golgi and ER_GO_2  \n",
       "2  YOR349W              10  Golgi and ER_GO_2  \n",
       "3  YOR349W              10  Golgi and ER_GO_2  \n",
       "4  YOR349W              10  Golgi and ER_GO_2  "
      ]
     },
     "execution_count": 3,
     "metadata": {},
     "output_type": "execute_result"
    }
   ],
   "source": [
    "data.head()"
   ]
  },
  {
   "cell_type": "code",
   "execution_count": 4,
   "metadata": {
    "collapsed": true
   },
   "outputs": [],
   "source": [
    "#data = data[data['cluster'] == 'Golgi and ER_GO_2']\n",
    "#data = data[data['cluster'] == 'chromatin_GO_1']\n",
    "data = data[data['cluster'] == 'mitochondrion_GO_3']"
   ]
  },
  {
   "cell_type": "code",
   "execution_count": 5,
   "metadata": {},
   "outputs": [
    {
     "data": {
      "text/plain": [
       "(32273, 8)"
      ]
     },
     "execution_count": 5,
     "metadata": {},
     "output_type": "execute_result"
    }
   ],
   "source": [
    "data.shape"
   ]
  },
  {
   "cell_type": "code",
   "execution_count": 6,
   "metadata": {
    "collapsed": true
   },
   "outputs": [],
   "source": [
    "data['protein_cluster'] = data.protein + \"-\" + data.cluster"
   ]
  },
  {
   "cell_type": "code",
   "execution_count": 7,
   "metadata": {},
   "outputs": [
    {
     "data": {
      "text/plain": [
       "Index(['method', 'value', 'mutant', 'partner', 'protein', 'ORF',\n",
       "       'cluster_number', 'cluster', 'protein_cluster'],\n",
       "      dtype='object')"
      ]
     },
     "execution_count": 7,
     "metadata": {},
     "output_type": "execute_result"
    }
   ],
   "source": [
    "data.columns"
   ]
  },
  {
   "cell_type": "markdown",
   "metadata": {},
   "source": [
    "Now create correlation of correlations matrix for entire set of proteins. In matrix, the index denotes the correlation of correlation for a given mutant-cluster and the column labels denote the protein. "
   ]
  },
  {
   "cell_type": "code",
   "execution_count": 8,
   "metadata": {
    "collapsed": true
   },
   "outputs": [],
   "source": [
    "# create dictionary with list of protein_cluster for each mutant\n",
    "mutants = pd.unique(data.mutant).tolist()\n",
    "i = 0\n",
    "f = [None] * len(mutants)\n",
    "for mutant in mutants:\n",
    "    data_mutant = data[data.mutant == mutant]\n",
    "    f[i] = data_mutant.protein_cluster\n",
    "    i = i+1\n",
    "d = dict(zip(mutants, f))"
   ]
  },
  {
   "cell_type": "code",
   "execution_count": 9,
   "metadata": {},
   "outputs": [
    {
     "data": {
      "text/html": [
       "<div>\n",
       "<style>\n",
       "    .dataframe thead tr:only-child th {\n",
       "        text-align: right;\n",
       "    }\n",
       "\n",
       "    .dataframe thead th {\n",
       "        text-align: left;\n",
       "    }\n",
       "\n",
       "    .dataframe tbody tr th {\n",
       "        vertical-align: top;\n",
       "    }\n",
       "</style>\n",
       "<table border=\"1\" class=\"dataframe\">\n",
       "  <thead>\n",
       "    <tr style=\"text-align: right;\">\n",
       "      <th></th>\n",
       "      <th>0</th>\n",
       "      <th>1</th>\n",
       "      <th>2</th>\n",
       "      <th>3</th>\n",
       "      <th>4</th>\n",
       "      <th>5</th>\n",
       "      <th>6</th>\n",
       "      <th>7</th>\n",
       "      <th>8</th>\n",
       "      <th>9</th>\n",
       "      <th>...</th>\n",
       "      <th>49</th>\n",
       "      <th>50</th>\n",
       "      <th>51</th>\n",
       "      <th>52</th>\n",
       "      <th>53</th>\n",
       "      <th>54</th>\n",
       "      <th>55</th>\n",
       "      <th>56</th>\n",
       "      <th>57</th>\n",
       "      <th>58</th>\n",
       "    </tr>\n",
       "  </thead>\n",
       "  <tbody>\n",
       "    <tr>\n",
       "      <th>COG7-mitochondrion_GO_3</th>\n",
       "      <td>-0.178334</td>\n",
       "      <td>-0.314128</td>\n",
       "      <td>-0.221575</td>\n",
       "      <td>0.024393</td>\n",
       "      <td>0.257928</td>\n",
       "      <td>0.279482</td>\n",
       "      <td>0.167716</td>\n",
       "      <td>0.131096</td>\n",
       "      <td>0.117598</td>\n",
       "      <td>-0.157725</td>\n",
       "      <td>...</td>\n",
       "      <td>0.024023</td>\n",
       "      <td>-0.154959</td>\n",
       "      <td>-0.221241</td>\n",
       "      <td>0.476456</td>\n",
       "      <td>0.222147</td>\n",
       "      <td>-0.015166</td>\n",
       "      <td>0.578563</td>\n",
       "      <td>-0.035802</td>\n",
       "      <td>-0.114841</td>\n",
       "      <td>-0.407181</td>\n",
       "    </tr>\n",
       "    <tr>\n",
       "      <th>NUP120-mitochondrion_GO_3</th>\n",
       "      <td>-0.448138</td>\n",
       "      <td>-0.288995</td>\n",
       "      <td>-0.579912</td>\n",
       "      <td>-0.287869</td>\n",
       "      <td>-0.346135</td>\n",
       "      <td>-0.219116</td>\n",
       "      <td>-0.263892</td>\n",
       "      <td>-0.175826</td>\n",
       "      <td>-0.498985</td>\n",
       "      <td>-0.259522</td>\n",
       "      <td>...</td>\n",
       "      <td>-0.462453</td>\n",
       "      <td>-0.024681</td>\n",
       "      <td>-0.519404</td>\n",
       "      <td>0.426413</td>\n",
       "      <td>0.401101</td>\n",
       "      <td>0.502559</td>\n",
       "      <td>0.025457</td>\n",
       "      <td>0.386974</td>\n",
       "      <td>-0.422456</td>\n",
       "      <td>-0.480177</td>\n",
       "    </tr>\n",
       "    <tr>\n",
       "      <th>KIP3-mitochondrion_GO_3</th>\n",
       "      <td>-0.221702</td>\n",
       "      <td>0.057441</td>\n",
       "      <td>0.243848</td>\n",
       "      <td>-0.404671</td>\n",
       "      <td>-0.081391</td>\n",
       "      <td>0.366569</td>\n",
       "      <td>0.004619</td>\n",
       "      <td>0.307865</td>\n",
       "      <td>0.227273</td>\n",
       "      <td>-0.004394</td>\n",
       "      <td>...</td>\n",
       "      <td>-0.003534</td>\n",
       "      <td>-0.140942</td>\n",
       "      <td>0.017610</td>\n",
       "      <td>0.125361</td>\n",
       "      <td>-0.283094</td>\n",
       "      <td>-0.287760</td>\n",
       "      <td>0.526675</td>\n",
       "      <td>-0.044494</td>\n",
       "      <td>-0.139305</td>\n",
       "      <td>-0.136860</td>\n",
       "    </tr>\n",
       "    <tr>\n",
       "      <th>INP52-mitochondrion_GO_3</th>\n",
       "      <td>0.288848</td>\n",
       "      <td>-0.032483</td>\n",
       "      <td>0.192153</td>\n",
       "      <td>0.035079</td>\n",
       "      <td>0.130914</td>\n",
       "      <td>0.041462</td>\n",
       "      <td>0.278596</td>\n",
       "      <td>-0.143483</td>\n",
       "      <td>-0.026372</td>\n",
       "      <td>0.042207</td>\n",
       "      <td>...</td>\n",
       "      <td>-0.066973</td>\n",
       "      <td>0.375405</td>\n",
       "      <td>0.280057</td>\n",
       "      <td>-0.127746</td>\n",
       "      <td>0.138317</td>\n",
       "      <td>0.015260</td>\n",
       "      <td>0.004105</td>\n",
       "      <td>-0.184642</td>\n",
       "      <td>0.156405</td>\n",
       "      <td>0.320017</td>\n",
       "    </tr>\n",
       "    <tr>\n",
       "      <th>TMA23-mitochondrion_GO_3</th>\n",
       "      <td>-0.059797</td>\n",
       "      <td>-0.169474</td>\n",
       "      <td>-0.253136</td>\n",
       "      <td>0.230413</td>\n",
       "      <td>0.166283</td>\n",
       "      <td>-0.091750</td>\n",
       "      <td>0.387820</td>\n",
       "      <td>0.073031</td>\n",
       "      <td>0.070226</td>\n",
       "      <td>-0.440203</td>\n",
       "      <td>...</td>\n",
       "      <td>0.331681</td>\n",
       "      <td>-0.310612</td>\n",
       "      <td>0.151383</td>\n",
       "      <td>0.396691</td>\n",
       "      <td>0.422485</td>\n",
       "      <td>0.379738</td>\n",
       "      <td>0.207954</td>\n",
       "      <td>-0.351246</td>\n",
       "      <td>-0.027654</td>\n",
       "      <td>-0.287556</td>\n",
       "    </tr>\n",
       "    <tr>\n",
       "      <th>SET2-mitochondrion_GO_3</th>\n",
       "      <td>0.195759</td>\n",
       "      <td>-0.158201</td>\n",
       "      <td>-0.107445</td>\n",
       "      <td>0.241787</td>\n",
       "      <td>0.434583</td>\n",
       "      <td>0.040294</td>\n",
       "      <td>0.541292</td>\n",
       "      <td>-0.157699</td>\n",
       "      <td>0.179212</td>\n",
       "      <td>-0.219510</td>\n",
       "      <td>...</td>\n",
       "      <td>0.289125</td>\n",
       "      <td>-0.061511</td>\n",
       "      <td>0.289642</td>\n",
       "      <td>0.418726</td>\n",
       "      <td>0.420238</td>\n",
       "      <td>0.195905</td>\n",
       "      <td>0.410629</td>\n",
       "      <td>-0.407212</td>\n",
       "      <td>0.218298</td>\n",
       "      <td>-0.086013</td>\n",
       "    </tr>\n",
       "    <tr>\n",
       "      <th>ARL1-mitochondrion_GO_3</th>\n",
       "      <td>0.031081</td>\n",
       "      <td>-0.189943</td>\n",
       "      <td>0.109284</td>\n",
       "      <td>0.061940</td>\n",
       "      <td>0.172967</td>\n",
       "      <td>-0.172150</td>\n",
       "      <td>-0.011067</td>\n",
       "      <td>-0.337533</td>\n",
       "      <td>-0.194314</td>\n",
       "      <td>-0.189380</td>\n",
       "      <td>...</td>\n",
       "      <td>0.223666</td>\n",
       "      <td>0.226166</td>\n",
       "      <td>0.027083</td>\n",
       "      <td>0.144972</td>\n",
       "      <td>0.161069</td>\n",
       "      <td>0.102033</td>\n",
       "      <td>-0.149899</td>\n",
       "      <td>-0.055226</td>\n",
       "      <td>0.173063</td>\n",
       "      <td>0.035951</td>\n",
       "    </tr>\n",
       "    <tr>\n",
       "      <th>DPB4-mitochondrion_GO_3</th>\n",
       "      <td>-0.728019</td>\n",
       "      <td>-0.229231</td>\n",
       "      <td>-0.191605</td>\n",
       "      <td>-0.484051</td>\n",
       "      <td>-0.270810</td>\n",
       "      <td>0.165295</td>\n",
       "      <td>-0.430057</td>\n",
       "      <td>0.505033</td>\n",
       "      <td>-0.118621</td>\n",
       "      <td>-0.281805</td>\n",
       "      <td>...</td>\n",
       "      <td>-0.189921</td>\n",
       "      <td>-0.472606</td>\n",
       "      <td>-0.619344</td>\n",
       "      <td>0.534386</td>\n",
       "      <td>-0.156730</td>\n",
       "      <td>0.036029</td>\n",
       "      <td>0.339577</td>\n",
       "      <td>0.171643</td>\n",
       "      <td>-0.562338</td>\n",
       "      <td>-0.585601</td>\n",
       "    </tr>\n",
       "    <tr>\n",
       "      <th>SPT8-mitochondrion_GO_3</th>\n",
       "      <td>-0.145717</td>\n",
       "      <td>-0.317180</td>\n",
       "      <td>-0.197493</td>\n",
       "      <td>0.020857</td>\n",
       "      <td>0.405019</td>\n",
       "      <td>0.265975</td>\n",
       "      <td>0.308229</td>\n",
       "      <td>0.085025</td>\n",
       "      <td>0.171989</td>\n",
       "      <td>-0.413886</td>\n",
       "      <td>...</td>\n",
       "      <td>0.284388</td>\n",
       "      <td>-0.233850</td>\n",
       "      <td>-0.057464</td>\n",
       "      <td>0.727899</td>\n",
       "      <td>0.211813</td>\n",
       "      <td>0.173785</td>\n",
       "      <td>0.370073</td>\n",
       "      <td>-0.391330</td>\n",
       "      <td>-0.116353</td>\n",
       "      <td>-0.384733</td>\n",
       "    </tr>\n",
       "    <tr>\n",
       "      <th>LEO1-mitochondrion_GO_3</th>\n",
       "      <td>-0.431946</td>\n",
       "      <td>-0.624695</td>\n",
       "      <td>-0.178409</td>\n",
       "      <td>-0.296573</td>\n",
       "      <td>0.022257</td>\n",
       "      <td>-0.079396</td>\n",
       "      <td>-0.117121</td>\n",
       "      <td>0.169483</td>\n",
       "      <td>-0.029635</td>\n",
       "      <td>-0.601441</td>\n",
       "      <td>...</td>\n",
       "      <td>0.127895</td>\n",
       "      <td>-0.192346</td>\n",
       "      <td>-0.401392</td>\n",
       "      <td>0.719098</td>\n",
       "      <td>0.003809</td>\n",
       "      <td>0.202222</td>\n",
       "      <td>0.328281</td>\n",
       "      <td>-0.255436</td>\n",
       "      <td>-0.347990</td>\n",
       "      <td>-0.506686</td>\n",
       "    </tr>\n",
       "  </tbody>\n",
       "</table>\n",
       "<p>10 rows × 59 columns</p>\n",
       "</div>"
      ],
      "text/plain": [
       "                                  0         1         2         3         4  \\\n",
       "COG7-mitochondrion_GO_3   -0.178334 -0.314128 -0.221575  0.024393  0.257928   \n",
       "NUP120-mitochondrion_GO_3 -0.448138 -0.288995 -0.579912 -0.287869 -0.346135   \n",
       "KIP3-mitochondrion_GO_3   -0.221702  0.057441  0.243848 -0.404671 -0.081391   \n",
       "INP52-mitochondrion_GO_3   0.288848 -0.032483  0.192153  0.035079  0.130914   \n",
       "TMA23-mitochondrion_GO_3  -0.059797 -0.169474 -0.253136  0.230413  0.166283   \n",
       "SET2-mitochondrion_GO_3    0.195759 -0.158201 -0.107445  0.241787  0.434583   \n",
       "ARL1-mitochondrion_GO_3    0.031081 -0.189943  0.109284  0.061940  0.172967   \n",
       "DPB4-mitochondrion_GO_3   -0.728019 -0.229231 -0.191605 -0.484051 -0.270810   \n",
       "SPT8-mitochondrion_GO_3   -0.145717 -0.317180 -0.197493  0.020857  0.405019   \n",
       "LEO1-mitochondrion_GO_3   -0.431946 -0.624695 -0.178409 -0.296573  0.022257   \n",
       "\n",
       "                                  5         6         7         8         9  \\\n",
       "COG7-mitochondrion_GO_3    0.279482  0.167716  0.131096  0.117598 -0.157725   \n",
       "NUP120-mitochondrion_GO_3 -0.219116 -0.263892 -0.175826 -0.498985 -0.259522   \n",
       "KIP3-mitochondrion_GO_3    0.366569  0.004619  0.307865  0.227273 -0.004394   \n",
       "INP52-mitochondrion_GO_3   0.041462  0.278596 -0.143483 -0.026372  0.042207   \n",
       "TMA23-mitochondrion_GO_3  -0.091750  0.387820  0.073031  0.070226 -0.440203   \n",
       "SET2-mitochondrion_GO_3    0.040294  0.541292 -0.157699  0.179212 -0.219510   \n",
       "ARL1-mitochondrion_GO_3   -0.172150 -0.011067 -0.337533 -0.194314 -0.189380   \n",
       "DPB4-mitochondrion_GO_3    0.165295 -0.430057  0.505033 -0.118621 -0.281805   \n",
       "SPT8-mitochondrion_GO_3    0.265975  0.308229  0.085025  0.171989 -0.413886   \n",
       "LEO1-mitochondrion_GO_3   -0.079396 -0.117121  0.169483 -0.029635 -0.601441   \n",
       "\n",
       "                             ...           49        50        51        52  \\\n",
       "COG7-mitochondrion_GO_3      ...     0.024023 -0.154959 -0.221241  0.476456   \n",
       "NUP120-mitochondrion_GO_3    ...    -0.462453 -0.024681 -0.519404  0.426413   \n",
       "KIP3-mitochondrion_GO_3      ...    -0.003534 -0.140942  0.017610  0.125361   \n",
       "INP52-mitochondrion_GO_3     ...    -0.066973  0.375405  0.280057 -0.127746   \n",
       "TMA23-mitochondrion_GO_3     ...     0.331681 -0.310612  0.151383  0.396691   \n",
       "SET2-mitochondrion_GO_3      ...     0.289125 -0.061511  0.289642  0.418726   \n",
       "ARL1-mitochondrion_GO_3      ...     0.223666  0.226166  0.027083  0.144972   \n",
       "DPB4-mitochondrion_GO_3      ...    -0.189921 -0.472606 -0.619344  0.534386   \n",
       "SPT8-mitochondrion_GO_3      ...     0.284388 -0.233850 -0.057464  0.727899   \n",
       "LEO1-mitochondrion_GO_3      ...     0.127895 -0.192346 -0.401392  0.719098   \n",
       "\n",
       "                                 53        54        55        56        57  \\\n",
       "COG7-mitochondrion_GO_3    0.222147 -0.015166  0.578563 -0.035802 -0.114841   \n",
       "NUP120-mitochondrion_GO_3  0.401101  0.502559  0.025457  0.386974 -0.422456   \n",
       "KIP3-mitochondrion_GO_3   -0.283094 -0.287760  0.526675 -0.044494 -0.139305   \n",
       "INP52-mitochondrion_GO_3   0.138317  0.015260  0.004105 -0.184642  0.156405   \n",
       "TMA23-mitochondrion_GO_3   0.422485  0.379738  0.207954 -0.351246 -0.027654   \n",
       "SET2-mitochondrion_GO_3    0.420238  0.195905  0.410629 -0.407212  0.218298   \n",
       "ARL1-mitochondrion_GO_3    0.161069  0.102033 -0.149899 -0.055226  0.173063   \n",
       "DPB4-mitochondrion_GO_3   -0.156730  0.036029  0.339577  0.171643 -0.562338   \n",
       "SPT8-mitochondrion_GO_3    0.211813  0.173785  0.370073 -0.391330 -0.116353   \n",
       "LEO1-mitochondrion_GO_3    0.003809  0.202222  0.328281 -0.255436 -0.347990   \n",
       "\n",
       "                                 58  \n",
       "COG7-mitochondrion_GO_3   -0.407181  \n",
       "NUP120-mitochondrion_GO_3 -0.480177  \n",
       "KIP3-mitochondrion_GO_3   -0.136860  \n",
       "INP52-mitochondrion_GO_3   0.320017  \n",
       "TMA23-mitochondrion_GO_3  -0.287556  \n",
       "SET2-mitochondrion_GO_3   -0.086013  \n",
       "ARL1-mitochondrion_GO_3    0.035951  \n",
       "DPB4-mitochondrion_GO_3   -0.585601  \n",
       "SPT8-mitochondrion_GO_3   -0.384733  \n",
       "LEO1-mitochondrion_GO_3   -0.506686  \n",
       "\n",
       "[10 rows x 59 columns]"
      ]
     },
     "execution_count": 9,
     "metadata": {},
     "output_type": "execute_result"
    }
   ],
   "source": [
    "# protein_cluster is a list of all protein_cluster\n",
    "protein_cluster = pd.unique(data.protein_cluster).tolist()\n",
    "\n",
    "# initialize empty dataframe with rownames as the unique protein_cluster\n",
    "cmat = pd.DataFrame([], index = protein_cluster)\n",
    "\n",
    "# need a counter for column names\n",
    "i = 0\n",
    "\n",
    "# loop through the mutants\n",
    "for mutant, c in d.items():\n",
    "    df_mutant = data[data.mutant == mutant]\n",
    "    #create column of data frame\n",
    "    column = []\n",
    "    for pc in protein_cluster:\n",
    "        v = df_mutant[df_mutant.protein_cluster == pc].value\n",
    "        #if v.empty:\n",
    "            #column.append(0)\n",
    "        #else:\n",
    "        column.append(v.values[0])\n",
    "    #create index name\n",
    "    index = str(i)\n",
    "    #add column\n",
    "    cmat[index] = column\n",
    "    #update index\n",
    "    i = i + 1\n",
    "\n",
    "cmat[10:20]"
   ]
  },
  {
   "cell_type": "code",
   "execution_count": 10,
   "metadata": {},
   "outputs": [
    {
     "data": {
      "text/plain": [
       "59"
      ]
     },
     "execution_count": 10,
     "metadata": {},
     "output_type": "execute_result"
    }
   ],
   "source": [
    "len(mutants)"
   ]
  },
  {
   "cell_type": "code",
   "execution_count": 11,
   "metadata": {},
   "outputs": [
    {
     "data": {
      "text/plain": [
       "(525, 59)"
      ]
     },
     "execution_count": 11,
     "metadata": {},
     "output_type": "execute_result"
    }
   ],
   "source": [
    "cmat.shape"
   ]
  },
  {
   "cell_type": "markdown",
   "metadata": {},
   "source": [
    "### Distance between protein interaction profiles"
   ]
  },
  {
   "cell_type": "code",
   "execution_count": 12,
   "metadata": {
    "collapsed": true
   },
   "outputs": [],
   "source": [
    "from sklearn.manifold import MDS\n",
    "from scipy.spatial import distance"
   ]
  },
  {
   "cell_type": "markdown",
   "metadata": {},
   "source": [
    "Plotting infrastructure setup"
   ]
  },
  {
   "cell_type": "code",
   "execution_count": 13,
   "metadata": {
    "collapsed": true
   },
   "outputs": [],
   "source": [
    "def simple_scatterplot(x,y,title,labels,savepath):\n",
    "    # Scatterplot with a title and labels\n",
    "    fig, ax = plt.subplots(figsize=(16,14))\n",
    "    ax.scatter(x, y, marker='o')\n",
    "    plt.title(title, fontsize=14)\n",
    "    for i, label in enumerate(labels):\n",
    "        ax.annotate(label, (x[i],y[i]))\n",
    "    #save file\n",
    "    if (savepath != None):\n",
    "        plt.savefig(savepath)\n",
    "    return ax"
   ]
  },
  {
   "cell_type": "code",
   "execution_count": 14,
   "metadata": {
    "collapsed": true
   },
   "outputs": [],
   "source": [
    "def fit_MDS_2D(distances):\n",
    "    # A simple MDS embedding plot:\n",
    "    mds = MDS(n_components=2, dissimilarity='precomputed',random_state=123)\n",
    "    #fit based on computed Euclidean distances\n",
    "    mds_fit = mds.fit(distances)\n",
    "    #get 2D Euclidean points of presidents\n",
    "    points = mds_fit.embedding_\n",
    "    return points"
   ]
  },
  {
   "cell_type": "code",
   "execution_count": 15,
   "metadata": {
    "collapsed": true
   },
   "outputs": [],
   "source": [
    "#norm=cmat.fillna(0)\n",
    "norm=cmat"
   ]
  },
  {
   "cell_type": "markdown",
   "metadata": {},
   "source": [
    "Make a numpy array version of the dataframe to use with Scikit-Learn:"
   ]
  },
  {
   "cell_type": "code",
   "execution_count": 16,
   "metadata": {},
   "outputs": [
    {
     "data": {
      "text/plain": [
       "(525, 59)"
      ]
     },
     "execution_count": 16,
     "metadata": {},
     "output_type": "execute_result"
    }
   ],
   "source": [
    "norm = np.array(norm)\n",
    "norm.shape"
   ]
  },
  {
   "cell_type": "code",
   "execution_count": 17,
   "metadata": {
    "scrolled": true
   },
   "outputs": [
    {
     "data": {
      "image/png": "[encoded data removed]",
      "text/plain": [
       "<matplotlib.figure.Figure at 0x119275358>"
      ]
     },
     "metadata": {},
     "output_type": "display_data"
    }
   ],
   "source": [
    "#Intialize empty matrix of Euclidean distances\n",
    "euc_dists = np.zeros(shape = (norm.shape[1], norm.shape[1]))\n",
    "#loop through columns\n",
    "for i in range(norm.shape[1]):\n",
    "    #catch first column to compare\n",
    "    cur_col = norm[:, i]\n",
    "    #loop through remaining columns\n",
    "    for j in range(i, norm.shape[1], 1):\n",
    "        #catch second column to compare\n",
    "        comp_col = norm[:, j]\n",
    "        \n",
    "        #compute Euclidean Distance\n",
    "        euc_dist = distance.euclidean(cur_col, comp_col)\n",
    "        euc_dists[i, j] = euc_dist\n",
    "        \n",
    "        #the matrices are symmetric, saves runntime to do this\n",
    "        if (i != j):\n",
    "            euc_dists[j, i] = euc_dist\n",
    "\n",
    "# Fit with MDS\n",
    "points_euclidean = fit_MDS_2D(euc_dists)\n",
    "\n",
    "# Create scatter plot of projected points based on Euclidean Distances\n",
    "simple_scatterplot(points_euclidean[:,0],points_euclidean[:,1],\n",
    "                   \"MDS - Euclidean Distances\",\n",
    "                   mutants,\n",
    "                   'results/mds_1_mut.png'\n",
    "                  );"
   ]
  },
  {
   "cell_type": "code",
   "execution_count": 18,
   "metadata": {
    "collapsed": true
   },
   "outputs": [],
   "source": [
    "def plot_embedding(data, title='MDS Embedding', savepath=None, palette='viridis', \n",
    "                   size=7):\n",
    "    \"\"\"Plot an MDS embedding dataframe for all presidents.\n",
    "    \n",
    "    Uses Seaborn's `lmplot` to create an x-y scatterplot of the data, encoding the \n",
    "    value of the investor field into the hue (which can be mapped to any desired\n",
    "    color palette).\n",
    "    \n",
    "    Parameters\n",
    "    ----------\n",
    "    data : DataFrame\n",
    "        A DataFrame that must contain 3 columns labeled 'x', 'y' and 'protein'.\n",
    "        \n",
    "    title : optional, string\n",
    "        Title for the plot\n",
    "        \n",
    "    savepath : optional, string\n",
    "        If given, a path to save the figure into using matplotlib's `savefig`.\n",
    "        \n",
    "    palette : optional, string\n",
    "        The name of a valid Seaborn palette for coloring the points.\n",
    "    \n",
    "    size : optional, float\n",
    "        Size of the plot in inches (single number, square plot)\n",
    "        \n",
    "    Returns\n",
    "    -------\n",
    "    FacetGrid\n",
    "        The Seaborn FacetGrid object used to create the plot.\n",
    "    \"\"\"\n",
    "    #process data\n",
    "    x = data['x']\n",
    "    y = data['y']\n",
    "    mutant = data['mutant']\n",
    "    \n",
    "    #set boolean for using or not using annotation\n",
    "    do_annotate = False\n",
    "    \n",
    "    #create scatterplot using linear model without a regression fit\n",
    "    p = sns.lmplot(x = \"x\", y = \"y\", data = data, hue = \"mutant\", palette = palette, size = size, fit_reg= False, legend=False)\n",
    "    p.ax.legend(bbox_to_anchor=(1.01, 0.85),ncol=2)\n",
    "    \n",
    "    #this is used in order to annotate\n",
    "    ax = plt.gca()\n",
    "    \n",
    "    #make grid and set title\n",
    "    plt.grid()\n",
    "    plt.title(title,fontsize=16)\n",
    "    \n",
    "    #adjust border for file saving so not cut-off\n",
    "    plt.tight_layout()\n",
    "    \n",
    "    #save file\n",
    "    if (savepath != None):\n",
    "        plt.savefig(savepath)"
   ]
  },
  {
   "cell_type": "code",
   "execution_count": 19,
   "metadata": {
    "collapsed": true
   },
   "outputs": [],
   "source": [
    "#create embed_peu data frame\n",
    "embed_peu = pd.DataFrame([])\n",
    "embed_peu['x'] = points_euclidean[:, 0]\n",
    "embed_peu['y'] = points_euclidean[:, 1]\n",
    "embed_peu['mutant'] = mutants"
   ]
  },
  {
   "cell_type": "code",
   "execution_count": 20,
   "metadata": {},
   "outputs": [
    {
     "data": {
      "image/png": "[encoded data removed]",
      "text/plain": [
       "<matplotlib.figure.Figure at 0x11a1e85f8>"
      ]
     },
     "metadata": {},
     "output_type": "display_data"
    }
   ],
   "source": [
    "plot_embedding(embed_peu, 'MDS - euclidean distance', 'results/mds_mut.png');"
   ]
  },
  {
   "cell_type": "code",
   "execution_count": null,
   "metadata": {
    "collapsed": true
   },
   "outputs": [],
   "source": []
  }
 ],
 "metadata": {
  "kernelspec": {
   "display_name": "Python 3",
   "language": "python",
   "name": "python3"
  },
  "language_info": {
   "codemirror_mode": {
    "name": "ipython",
    "version": 3
   },
   "file_extension": ".py",
   "mimetype": "text/x-python",
   "name": "python",
   "nbconvert_exporter": "python",
   "pygments_lexer": "ipython3",
   "version": "3.6.1"
  }
 },
 "nbformat": 4,
 "nbformat_minor": 2
}
